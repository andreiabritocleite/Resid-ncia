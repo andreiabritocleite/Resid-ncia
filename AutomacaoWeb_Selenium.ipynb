{
 "cells": [
  {
   "cell_type": "markdown",
   "id": "a3e77993",
   "metadata": {},
   "source": [
    "### Automação Web com Selenium\n",
    "\n",
    "Passo 1 - Instalação das Bibliotecas\n",
    "Passo 2 - Importando Bibliotecas\n",
    "Passo 3 - Criar \n"
   ]
  },
  {
   "cell_type": "code",
   "execution_count": null,
   "id": "a823f23b",
   "metadata": {},
   "outputs": [],
   "source": [
    "#Instalação das bibliotecas de Selenium\n",
    "pip install selenium"
   ]
  },
  {
   "cell_type": "code",
   "execution_count": null,
   "id": "c8fb3a2d",
   "metadata": {},
   "outputs": [],
   "source": [
    "#Instalação das bibliotecas de Web Driver\n",
    "pip install webdriver-manager"
   ]
  },
  {
   "cell_type": "code",
   "execution_count": 12,
   "id": "e1d4db8c",
   "metadata": {},
   "outputs": [],
   "source": [
    "#bibliotecas \n",
    "from selenium import webdriver\n",
    "\n",
    "#Bibliotecas para automação \n",
    "from webdriver_manager.chrome import ChromeDriverManager\n",
    "\n",
    "#executar ChromeDriverManager\n",
    "\n",
    "from selenium.webdriver.chrome.service import Service as ChromeService\n"
   ]
  },
  {
   "cell_type": "code",
   "execution_count": 13,
   "id": "d187c68b",
   "metadata": {},
   "outputs": [],
   "source": [
    "#Criar um serviço para chamar e identificar a versão do navegador atual e instalar um navegador correspondente a versão.\n",
    "service = Service(ChromeDriverManager().install())\n",
    "\n",
    "navegador = webdriver.Chrome(service=service)"
   ]
  },
  {
   "cell_type": "code",
   "execution_count": 14,
   "id": "76ebb5c8",
   "metadata": {},
   "outputs": [],
   "source": [
    "#Ir para pagina especifica\n",
    "navegador.get(\"https://www.magazineluiza.com.br/\")"
   ]
  }
 ],
 "metadata": {
  "kernelspec": {
   "display_name": "Python 3 (ipykernel)",
   "language": "python",
   "name": "python3"
  },
  "language_info": {
   "codemirror_mode": {
    "name": "ipython",
    "version": 3
   },
   "file_extension": ".py",
   "mimetype": "text/x-python",
   "name": "python",
   "nbconvert_exporter": "python",
   "pygments_lexer": "ipython3",
   "version": "3.11.5"
  }
 },
 "nbformat": 4,
 "nbformat_minor": 5
}
